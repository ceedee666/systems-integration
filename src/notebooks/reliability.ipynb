{
 "cells": [
  {
   "cell_type": "markdown",
   "id": "7573dfed-ecea-471d-bb5a-5067ea5a9cb2",
   "metadata": {},
   "source": [
    "# Exploring Reliability in Distributed Systems\n",
    "\n",
    "This interactive notebook provides a hands-on way to explore how **failure rates** and the **number of components** impact the reliability of a distributed system over time. Reliability is a critical measure in system design, representing the probability that a system remains functional without failure during a given time interval.\n",
    "\n",
    "In this notebook, you can:\n",
    "- Adjust the **failure rate** $z$ to observe how the rate of component failure affects the reliability curve.\n",
    "- Modify the **number of components** $N$ to see how the overall system's functioning components evolve over time.\n",
    "\n"
   ]
  },
  {
   "cell_type": "code",
   "execution_count": 1,
   "id": "674b43ce-d424-47f6-8718-e5728a8ac203",
   "metadata": {},
   "outputs": [
    {
     "data": {
      "application/vnd.jupyter.widget-view+json": {
       "model_id": "2851951fa8e94ba3a2c3db78ed4bcfb2",
       "version_major": 2,
       "version_minor": 0
      },
      "text/plain": [
       "interactive(children=(FloatSlider(value=0.1, description='Failure Rate (z)', max=0.5, min=0.01, step=0.01), In…"
      ]
     },
     "metadata": {},
     "output_type": "display_data"
    },
    {
     "data": {
      "text/plain": [
       "<function __main__.interactive_reliability(failure_rate=0.1, num_components=100)>"
      ]
     },
     "execution_count": 1,
     "metadata": {},
     "output_type": "execute_result"
    }
   ],
   "source": [
    "import numpy as np\n",
    "import matplotlib.pyplot as plt\n",
    "from ipywidgets import interact, FloatSlider, IntSlider\n",
    "\n",
    "# Function to calculate reliability\n",
    "def reliability(failure_rate, time):\n",
    "    return np.exp(-failure_rate * time)\n",
    "\n",
    "# Interactive plotting function\n",
    "def interactive_reliability(failure_rate=0.1, num_components=100):\n",
    "    time = np.linspace(0, 50, 500)  # Time range: 0 to 50 units\n",
    "    R_t = reliability(failure_rate, time)  # Reliability calculation\n",
    "\n",
    "    # Calculate the number of functioning components over time\n",
    "    functioning_components = num_components * R_t\n",
    "\n",
    "    plt.figure(figsize=(10, 6))\n",
    "    plt.plot(time, R_t, label=\"Reliability (R(t))\")\n",
    "    plt.plot(time, functioning_components, label=\"Functioning Components\")\n",
    "    plt.title(\"Reliability and Functioning Components Over Time\", fontsize=16)\n",
    "    plt.xlabel(\"Time (t)\", fontsize=14)\n",
    "    plt.ylabel(\"Value\", fontsize=14)\n",
    "    plt.grid(True, which='both', linestyle='--', linewidth=0.5)\n",
    "    plt.axhline(0, color='black', linewidth=0.8)\n",
    "    plt.axvline(0, color='black', linewidth=0.8)\n",
    "    plt.legend(fontsize=12)\n",
    "    plt.show()\n",
    "\n",
    "# Interactive widget\n",
    "interact(\n",
    "    interactive_reliability,\n",
    "    failure_rate=FloatSlider(min=0.01, max=0.5, step=0.01, value=0.1, description=\"Failure Rate (z)\"),\n",
    "    num_components=IntSlider(min=10, max=500, step=10, value=100, description=\"Components (N)\")\n",
    ")\n",
    "\n"
   ]
  },
  {
   "cell_type": "code",
   "execution_count": null,
   "id": "3fbb5246-4879-4a30-9b80-62f19600ca89",
   "metadata": {},
   "outputs": [],
   "source": []
  }
 ],
 "metadata": {
  "kernelspec": {
   "display_name": "Python 3 (ipykernel)",
   "language": "python",
   "name": "python3"
  },
  "language_info": {
   "codemirror_mode": {
    "name": "ipython",
    "version": 3
   },
   "file_extension": ".py",
   "mimetype": "text/x-python",
   "name": "python",
   "nbconvert_exporter": "python",
   "pygments_lexer": "ipython3",
   "version": "3.13.0"
  }
 },
 "nbformat": 4,
 "nbformat_minor": 5
}
